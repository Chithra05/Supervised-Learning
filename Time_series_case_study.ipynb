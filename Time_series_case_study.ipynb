{
  "nbformat": 4,
  "nbformat_minor": 0,
  "metadata": {
    "colab": {
      "name": "Time series case study.ipynb",
      "provenance": [],
      "authorship_tag": "ABX9TyO7NR+wjNcS5e5+fTUGZeQE",
      "include_colab_link": true
    },
    "kernelspec": {
      "name": "python3",
      "display_name": "Python 3"
    },
    "language_info": {
      "name": "python"
    }
  },
  "cells": [
    {
      "cell_type": "markdown",
      "metadata": {
        "id": "view-in-github",
        "colab_type": "text"
      },
      "source": [
        "<a href=\"https://colab.research.google.com/github/Chithra05/Supervised-Learning/blob/main/Time_series_case_study.ipynb\" target=\"_parent\"><img src=\"https://colab.research.google.com/assets/colab-badge.svg\" alt=\"Open In Colab\"/></a>"
      ]
    },
    {
      "cell_type": "code",
      "execution_count": null,
      "metadata": {
        "colab": {
          "base_uri": "https://localhost:8080/"
        },
        "id": "BhjGTl87GMvT",
        "outputId": "17b357ec-d4e9-4683-db99-5ee28dcacbbb"
      },
      "outputs": [
        {
          "output_type": "stream",
          "name": "stderr",
          "text": [
            "/usr/local/lib/python3.7/dist-packages/statsmodels/tools/_testing.py:19: FutureWarning: pandas.util.testing is deprecated. Use the functions in the public API at pandas.testing instead.\n",
            "  import pandas.util.testing as tm\n"
          ]
        }
      ],
      "source": [
        "import numpy as np\n",
        "import pandas as pd \n",
        "from pandas import DataFrame\n",
        "import matplotlib.pyplot as plt\n",
        "import seaborn as sns\n",
        "from statsmodels.tsa.arima_model import ARIMA\n",
        "from pandas.plotting import autocorrelation_plot\n",
        "from sklearn.metrics import mean_squared_error\n",
        "from statsmodels.graphics.tsaplots import plot_pacf"
      ]
    },
    {
      "cell_type": "code",
      "source": [
        "df_dict=pd.DataFrame(\"date:\"['19810101','810102','810103','810104','810105','810106','810107','810108','810109','810110',\n",
        "                             '810111','810112','810113','810114','810115','810116','810117','810118','810119','810120',\n",
        "                             '810121','810122','810123','810124'],\n",
        "                     \"temp:\"[20.7,17.9,18.8,14.6,15.8,15.8,15.8,17.4,21.8,20.0,16.2,13.3,16.7,21.5,\n",
        "                             25.0,20.7,20.6,24.8,17.7,15.5,18.2,12.1,14.4,16.0])"
      ],
      "metadata": {
        "colab": {
          "base_uri": "https://localhost:8080/",
          "height": 235
        },
        "id": "XfOqUcY_Hg0K",
        "outputId": "8a417725-4338-449b-ee09-c8ba6fb5ce56"
      },
      "execution_count": null,
      "outputs": [
        {
          "output_type": "error",
          "ename": "TypeError",
          "evalue": "ignored",
          "traceback": [
            "\u001b[0;31m---------------------------------------------------------------------------\u001b[0m",
            "\u001b[0;31mTypeError\u001b[0m                                 Traceback (most recent call last)",
            "\u001b[0;32m<ipython-input-14-007ea021bca8>\u001b[0m in \u001b[0;36m<module>\u001b[0;34m()\u001b[0m\n\u001b[0;32m----> 1\u001b[0;31m df_dict=pd.DataFrame(\"date:\"['19810101','810102','810103','810104','810105','810106','810107','810108','810109','810110',\n\u001b[0m\u001b[1;32m      2\u001b[0m                              \u001b[0;34m'810111'\u001b[0m\u001b[0;34m,\u001b[0m\u001b[0;34m'810112'\u001b[0m\u001b[0;34m,\u001b[0m\u001b[0;34m'810113'\u001b[0m\u001b[0;34m,\u001b[0m\u001b[0;34m'810114'\u001b[0m\u001b[0;34m,\u001b[0m\u001b[0;34m'810115'\u001b[0m\u001b[0;34m,\u001b[0m\u001b[0;34m'810116'\u001b[0m\u001b[0;34m,\u001b[0m\u001b[0;34m'810117'\u001b[0m\u001b[0;34m,\u001b[0m\u001b[0;34m'810118'\u001b[0m\u001b[0;34m,\u001b[0m\u001b[0;34m'810119'\u001b[0m\u001b[0;34m,\u001b[0m\u001b[0;34m'810120'\u001b[0m\u001b[0;34m,\u001b[0m\u001b[0;34m\u001b[0m\u001b[0;34m\u001b[0m\u001b[0m\n\u001b[1;32m      3\u001b[0m                              '810121','810122','810123','810124'],\n\u001b[1;32m      4\u001b[0m                      \"temp:\"[20.7,17.9,18.8,14.6,15.8,15.8,15.8,17.4,21.8,20.0,16.2,13.3,16.7,21.5,\n\u001b[1;32m      5\u001b[0m                              25.0,20.7,20.6,24.8,17.7,15.5,18.2,12.1,14.4,16.0])\n",
            "\u001b[0;31mTypeError\u001b[0m: string indices must be integers"
          ]
        }
      ]
    },
    {
      "cell_type": "code",
      "source": [
        ""
      ],
      "metadata": {
        "id": "nXlG49uoKvJP"
      },
      "execution_count": null,
      "outputs": []
    },
    {
      "cell_type": "code",
      "source": [
        ""
      ],
      "metadata": {
        "id": "u0ZlaG8MKeHb"
      },
      "execution_count": null,
      "outputs": []
    },
    {
      "cell_type": "code",
      "source": [
        ""
      ],
      "metadata": {
        "id": "Eq0yXRywKFqj"
      },
      "execution_count": null,
      "outputs": []
    },
    {
      "cell_type": "code",
      "source": [
        ""
      ],
      "metadata": {
        "id": "5QWSrPhsJe6N"
      },
      "execution_count": null,
      "outputs": []
    },
    {
      "cell_type": "code",
      "source": [
        ""
      ],
      "metadata": {
        "id": "GKhpZloHJY17"
      },
      "execution_count": null,
      "outputs": []
    },
    {
      "cell_type": "code",
      "source": [
        ""
      ],
      "metadata": {
        "id": "Seg1fmr5Io0Z"
      },
      "execution_count": null,
      "outputs": []
    },
    {
      "cell_type": "code",
      "source": [
        ""
      ],
      "metadata": {
        "id": "0uoHvH5IIlnN"
      },
      "execution_count": null,
      "outputs": []
    }
  ]
}